{
 "cells": [
  {
   "cell_type": "markdown",
   "id": "ee55b3a3-ad5f-44f6-a6af-473bd2564d94",
   "metadata": {},
   "source": [
    " Joel takes you on a\n",
    "journey from being\n",
    "data-curious to getting a\n",
    "thorough understanding\n",
    "of the bread-and-butter\n",
    "algorithms that every data\n",
    "scientist should know."
   ]
  },
  {
   "cell_type": "markdown",
   "id": "a3a6708b-cff5-4fb1-8196-b187b20473cc",
   "metadata": {},
   "source": [
    "Get a crash course in Python\n",
    "■\n",
    "■ Learn the basics of linear algebra, statistics, and probability—\n",
    "■\n",
    "and understand how and when they're used in data science\n",
    "■ Collect, explore, clean, munge, and manipulate data\n",
    "■\n",
    "■ Dive into the fundamentals of machine learning\n",
    "■\n",
    "■ Implement models such as k-nearest neighbors, Naive Bayes,\n",
    "■\n",
    "linear and logistic regression, decision trees, neural networks,\n",
    "and clustering\n",
    "■ Explore recommender systems, natural language processing,\n",
    "■\n",
    "network analysis, MapReduce, and databases"
   ]
  },
  {
   "cell_type": "code",
   "execution_count": null,
   "id": "6a8ac5b5-343f-400c-9244-723d42a26328",
   "metadata": {},
   "outputs": [],
   "source": []
  }
 ],
 "metadata": {
  "kernelspec": {
   "display_name": "Python 3 (ipykernel)",
   "language": "python",
   "name": "python3"
  },
  "language_info": {
   "codemirror_mode": {
    "name": "ipython",
    "version": 3
   },
   "file_extension": ".py",
   "mimetype": "text/x-python",
   "name": "python",
   "nbconvert_exporter": "python",
   "pygments_lexer": "ipython3",
   "version": "3.11.5"
  }
 },
 "nbformat": 4,
 "nbformat_minor": 5
}
