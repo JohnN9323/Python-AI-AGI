{
 "cells": [
  {
   "cell_type": "markdown",
   "id": "b9583c0e-2107-4fa5-a433-627f9996ae9e",
   "metadata": {},
   "source": [
    "https://www.youtube.com/watch?v=0oyDqO8PjIg\n",
    "\n",
    "freeCodeCamp.org \n",
    "\n",
    "AI FOUNDATION COURSE - PYTHON, MACHINE LEARNING, DEEP LEARNING, DATA SCIENCE\n"
   ]
  },
  {
   "cell_type": "code",
   "execution_count": null,
   "id": "f8dfdd0c-f11f-422a-aaa6-72383299499b",
   "metadata": {},
   "outputs": [],
   "source": [
    "COURSE OVERVIEW\n",
    "\n",
    "Machine Learning Roadmap\n",
    "\n",
    "Machine Learning Essentials\n",
    "\n",
    "Top 10 Algorithms\n",
    "\n",
    "Data Analytics Case Study\n",
    "\n",
    "Machine Learning Case Studies\n",
    "\n",
    "Career Accelerator\n",
    "\n",
    "GenAI Interview Prep"
   ]
  },
  {
   "cell_type": "code",
   "execution_count": null,
   "id": "c5f04fd1-5b5f-4bd5-9cbc-b7ed10a73942",
   "metadata": {},
   "outputs": [],
   "source": [
    "COURSE CONTENT\n",
    "\n",
    "ML RoadMap 2024\n",
    "\n",
    "Exact skill-set to get into ML\n",
    "\n",
    "Resources for ML \n",
    "\n",
    "Machine Learning Basics\n",
    "\n",
    "Training, Testing and Evaluation ML model\n",
    "\n",
    "Bias-Variance Trade-off\n",
    "\n",
    "Overfitting and Regularization\n"
   ]
  },
  {
   "cell_type": "code",
   "execution_count": null,
   "id": "9bc24cff-b99d-4762-8946-89e14a526cde",
   "metadata": {},
   "outputs": [],
   "source": [
    "Probability Roles\n",
    "\n",
    "Conditional Probabilities\n",
    "\n",
    "Bernoulli Distribution\n",
    "\n",
    "Binomial Distribution\n",
    "\n",
    "Uniform Distribution \n",
    "\n",
    "Normal Distribution\n",
    "\n",
    "Exponential Distribution\n",
    "\n",
    "Expectation/Variance of Pdfs"
   ]
  },
  {
   "cell_type": "code",
   "execution_count": null,
   "id": "ffa7c6c3-8060-40f3-ba5e-d790d6696859",
   "metadata": {},
   "outputs": [],
   "source": [
    "case studies like \n",
    "\n",
    "behaviourial analysis\n",
    "customer segmentation\n",
    "data wrangling \n",
    "EDA Exploratory data analysis\n",
    "Conclusions and story telling\n",
    "\n",
    "As AI professional to know data science and data analytics"
   ]
  },
  {
   "cell_type": "code",
   "execution_count": null,
   "id": "bec6a703-638c-4afd-bef1-3c84cdd375d4",
   "metadata": {},
   "outputs": [],
   "source": []
  }
 ],
 "metadata": {
  "kernelspec": {
   "display_name": "Python 3 (ipykernel)",
   "language": "python",
   "name": "python3"
  },
  "language_info": {
   "codemirror_mode": {
    "name": "ipython",
    "version": 3
   },
   "file_extension": ".py",
   "mimetype": "text/x-python",
   "name": "python",
   "nbconvert_exporter": "python",
   "pygments_lexer": "ipython3",
   "version": "3.11.5"
  }
 },
 "nbformat": 4,
 "nbformat_minor": 5
}
